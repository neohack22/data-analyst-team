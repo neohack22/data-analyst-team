{
  "nbformat": 4,
  "nbformat_minor": 0,
  "metadata": {
    "colab": {
      "name": "CassandraAzure (2).ipynb",
      "provenance": [],
      "include_colab_link": true
    },
    "kernelspec": {
      "name": "python3",
      "display_name": "Python 3"
    },
    "language_info": {
      "name": "python"
    }
  },
  "cells": [
    {
      "cell_type": "markdown",
      "metadata": {
        "id": "view-in-github",
        "colab_type": "text"
      },
      "source": [
        "<a href=\"https://colab.research.google.com/github/neohack22/data-analyst-team/blob/Azure/CassandraAzure_(MS).ipynb\" target=\"_parent\"><img src=\"https://colab.research.google.com/assets/colab-badge.svg\" alt=\"Open In Colab\"/></a>"
      ]
    },
    {
      "cell_type": "markdown",
      "metadata": {
        "id": "esk5Id6ZGEQu"
      },
      "source": [
        "**Installation des Librairais necessaires**"
      ]
    },
    {
      "cell_type": "code",
      "metadata": {
        "colab": {
          "base_uri": "https://localhost:8080/"
        },
        "id": "qKGcu-HsFV-z",
        "outputId": "a3315fae-c564-475e-c4d1-4145ea973cbe"
      },
      "source": [
        "!pip install Cassandra-driver \n",
        "!pip install prettytable\n",
        "!pip install requests\n",
        "!pip install pyopenssl"
      ],
      "execution_count": null,
      "outputs": [
        {
          "output_type": "stream",
          "name": "stdout",
          "text": [
            "Collecting Cassandra-driver\n",
            "  Downloading cassandra_driver-3.25.0-cp37-cp37m-manylinux1_x86_64.whl (3.8 MB)\n",
            "\u001b[K     |████████████████████████████████| 3.8 MB 12.9 MB/s \n",
            "\u001b[?25hRequirement already satisfied: six>=1.9 in /usr/local/lib/python3.7/dist-packages (from Cassandra-driver) (1.15.0)\n",
            "Collecting geomet<0.3,>=0.1\n",
            "  Downloading geomet-0.2.1.post1-py3-none-any.whl (18 kB)\n",
            "Requirement already satisfied: click in /usr/local/lib/python3.7/dist-packages (from geomet<0.3,>=0.1->Cassandra-driver) (7.1.2)\n",
            "Installing collected packages: geomet, Cassandra-driver\n",
            "Successfully installed Cassandra-driver-3.25.0 geomet-0.2.1.post1\n",
            "Requirement already satisfied: prettytable in /usr/local/lib/python3.7/dist-packages (3.0.0)\n",
            "Requirement already satisfied: importlib-metadata in /usr/local/lib/python3.7/dist-packages (from prettytable) (4.10.1)\n",
            "Requirement already satisfied: wcwidth in /usr/local/lib/python3.7/dist-packages (from prettytable) (0.2.5)\n",
            "Requirement already satisfied: typing-extensions>=3.6.4 in /usr/local/lib/python3.7/dist-packages (from importlib-metadata->prettytable) (3.10.0.2)\n",
            "Requirement already satisfied: zipp>=0.5 in /usr/local/lib/python3.7/dist-packages (from importlib-metadata->prettytable) (3.7.0)\n",
            "Requirement already satisfied: requests in /usr/local/lib/python3.7/dist-packages (2.23.0)\n",
            "Requirement already satisfied: idna<3,>=2.5 in /usr/local/lib/python3.7/dist-packages (from requests) (2.10)\n",
            "Requirement already satisfied: urllib3!=1.25.0,!=1.25.1,<1.26,>=1.21.1 in /usr/local/lib/python3.7/dist-packages (from requests) (1.24.3)\n",
            "Requirement already satisfied: certifi>=2017.4.17 in /usr/local/lib/python3.7/dist-packages (from requests) (2021.10.8)\n",
            "Requirement already satisfied: chardet<4,>=3.0.2 in /usr/local/lib/python3.7/dist-packages (from requests) (3.0.4)\n",
            "Collecting pyopenssl\n",
            "  Downloading pyOpenSSL-21.0.0-py2.py3-none-any.whl (55 kB)\n",
            "\u001b[K     |████████████████████████████████| 55 kB 2.3 MB/s \n",
            "\u001b[?25hCollecting cryptography>=3.3\n",
            "  Downloading cryptography-36.0.1-cp36-abi3-manylinux_2_24_x86_64.whl (3.6 MB)\n",
            "\u001b[K     |████████████████████████████████| 3.6 MB 28.4 MB/s \n",
            "\u001b[?25hRequirement already satisfied: six>=1.5.2 in /usr/local/lib/python3.7/dist-packages (from pyopenssl) (1.15.0)\n",
            "Requirement already satisfied: cffi>=1.12 in /usr/local/lib/python3.7/dist-packages (from cryptography>=3.3->pyopenssl) (1.15.0)\n",
            "Requirement already satisfied: pycparser in /usr/local/lib/python3.7/dist-packages (from cffi>=1.12->cryptography>=3.3->pyopenssl) (2.21)\n",
            "Installing collected packages: cryptography, pyopenssl\n",
            "Successfully installed cryptography-36.0.1 pyopenssl-21.0.0\n"
          ]
        }
      ]
    },
    {
      "cell_type": "code",
      "metadata": {
        "id": "50u20Rb9GLlE"
      },
      "source": [
        ""
      ],
      "execution_count": null,
      "outputs": []
    },
    {
      "cell_type": "markdown",
      "metadata": {
        "id": "XlZg_bGdGKQ0"
      },
      "source": [
        "**COnfiguration des Chaine de connection**"
      ]
    },
    {
      "cell_type": "code",
      "metadata": {
        "id": "X1B60rywFYzZ"
      },
      "source": [
        "config = {\n",
        "         'username': 'mycassandradata',\n",
        "\n",
        "         'password': 'RB25skKY28FbiZ4v6VS9M2A1hz3ZGBd9g2uEOsZ9GX9EQAETOAF85VWlixIRy4HhaRfcQbgrOoXykFEwBy4h9g==',\n",
        "\n",
        "         'contactPoint': 'mycassandradata.cassandra.cosmos.azure.com',\n",
        "\n",
        "         'port':'10350'\n",
        "         }"
      ],
      "execution_count": null,
      "outputs": []
    },
    {
      "cell_type": "markdown",
      "metadata": {
        "id": "81y5RZKRGVJm"
      },
      "source": [
        "**Connexion et creation dun keyspace et table via API**"
      ]
    },
    {
      "cell_type": "code",
      "metadata": {
        "colab": {
          "base_uri": "https://localhost:8080/"
        },
        "id": "tdsneJj1FgD9",
        "outputId": "f850ca67-12e4-4945-f7fd-31c03e25a1d7"
      },
      "source": [
        "from cassandra.auth import PlainTextAuthProvider\n",
        " \n",
        "from cassandra.query import BatchStatement, SimpleStatement\n",
        "from prettytable import PrettyTable\n",
        "import time\n",
        "import ssl\n",
        "import cassandra\n",
        "from cassandra.cluster import Cluster\n",
        "from cassandra.policies import *\n",
        "from ssl import PROTOCOL_TLSv1_2, SSLContext, CERT_NONE\n",
        "from requests.utils import DEFAULT_CA_BUNDLE_PATH\n",
        "\n",
        "def PrintTable(rows):\n",
        "    t = PrettyTable(['UserID', 'Name', 'City'])\n",
        "    for r in rows:\n",
        "        t.add_row([r.user_id, r.user_name, r.user_bcity])\n",
        "    print (t)\n",
        "\n",
        "#<authenticateAndConnect>\n",
        "ssl_context = SSLContext(PROTOCOL_TLSv1_2)\n",
        "ssl_context.verify_mode = CERT_NONE\n",
        "auth_provider = PlainTextAuthProvider(username=config['username'], password=config['password'])\n",
        "cluster = Cluster([config['contactPoint']], port = config['port'], auth_provider=auth_provider,ssl_context=ssl_context)\n",
        "session = cluster.connect()\n",
        "#</authenticateAndConnect>\n",
        "\n",
        "#<createKeyspace>\n",
        "print (\"\\nCreating Keyspace\")\n",
        "session.execute('CREATE KEYSPACE IF NOT EXISTS uprofile WITH replication = {\\'class\\': \\'NetworkTopologyStrategy\\', \\'datacenter\\' : \\'3\\' }');\n",
        "#</createKeyspace>\n",
        "\n",
        "#<createTable>\n",
        "print (\"\\nCreating Table\")\n",
        "session.execute('CREATE TABLE IF NOT EXISTS uprofile.user (user_id int PRIMARY KEY, user_name text, user_bcity text)');\n",
        "#</createTable>\n",
        "\n",
        "#<insertData>\n",
        "session.execute(\"INSERT INTO  uprofile.user  (user_id, user_name , user_bcity) VALUES (%s,%s,%s)\", [1,'Lybkov','Seattle'])\n",
        "session.execute(\"INSERT INTO  uprofile.user  (user_id, user_name , user_bcity) VALUES (%s,%s,%s)\", [2,'Doniv','Dubai'])\n",
        "session.execute(\"INSERT INTO  uprofile.user  (user_id, user_name , user_bcity) VALUES (%s,%s,%s)\", [3,'Keviv','Chennai'])\n",
        "session.execute(\"INSERT INTO  uprofile.user  (user_id, user_name , user_bcity) VALUES (%s,%s,%s)\", [4,'Ehtevs','Pune'])\n",
        "session.execute(\"INSERT INTO  uprofile.user  (user_id, user_name , user_bcity) VALUES (%s,%s,%s)\", [5,'Dnivog','Belgaum'])\n",
        "session.execute(\"INSERT INTO  uprofile.user  (user_id, user_name , user_bcity) VALUES (%s,%s,%s)\", [6,'Ateegk','Narewadi'])\n",
        "session.execute(\"INSERT INTO  uprofile.user  (user_id, user_name , user_bcity) VALUES (%s,%s,%s)\", [7,'KannabbuS','Yamkanmardi'])\n",
        "#</insertData>\n",
        "\n",
        "#<queryAllItems>\n",
        "print (\"\\nSelecting All\")\n",
        "rows = session.execute('SELECT * FROM uprofile.user')\n",
        "PrintTable(rows)\n",
        "#</queryAllItems>\n",
        "\n",
        "#<queryByID>\n",
        "print (\"\\nSelecting Id=1\")\n",
        "rows = session.execute('SELECT * FROM uprofile.user where user_id=1')\n",
        "PrintTable(rows)\n",
        "#</queryByID>\n",
        "\n",
        "cluster.shutdown()"
      ],
      "execution_count": null,
      "outputs": [
        {
          "output_type": "stream",
          "name": "stdout",
          "text": [
            "\n",
            "Creating Keyspace\n",
            "\n",
            "Creating Table\n",
            "\n",
            "Selecting All\n",
            "+--------+-----------+-------------+\n",
            "| UserID |    Name   |     City    |\n",
            "+--------+-----------+-------------+\n",
            "|   5    |   Dnivog  |   Belgaum   |\n",
            "|   6    |   Ateegk  |   Narewadi  |\n",
            "|   7    | KannabbuS | Yamkanmardi |\n",
            "|   2    |   Doniv   |    Dubai    |\n",
            "|   3    |   Keviv   |   Chennai   |\n",
            "|   4    |   Ehtevs  |     Pune    |\n",
            "|   1    |   Lybkov  |   Seattle   |\n",
            "+--------+-----------+-------------+\n",
            "\n",
            "Selecting Id=1\n",
            "+--------+--------+---------+\n",
            "| UserID |  Name  |   City  |\n",
            "+--------+--------+---------+\n",
            "|   1    | Lybkov | Seattle |\n",
            "+--------+--------+---------+\n"
          ]
        }
      ]
    }
  ]
}